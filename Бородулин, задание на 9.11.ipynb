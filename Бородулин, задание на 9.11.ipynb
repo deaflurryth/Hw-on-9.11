{
 "cells": [
  {
   "cell_type": "markdown",
   "metadata": {},
   "source": [
    "# Регулярные выражения. Задания"
   ]
  },
  {
   "cell_type": "markdown",
   "metadata": {},
   "source": [
    "1) Дана строка 'aaa--bbb==ccc__ddd'. Написать регулярное выражение для разбивки строки на список ['aaa','bbb','ccc','ddd']."
   ]
  },
  {
   "cell_type": "code",
   "execution_count": 15,
   "metadata": {},
   "outputs": [],
   "source": [
    "import re\n",
    "from re import *"
   ]
  },
  {
   "cell_type": "code",
   "execution_count": 17,
   "metadata": {},
   "outputs": [
    {
     "name": "stdout",
     "output_type": "stream",
     "text": [
      "['aaa', 'bbb', 'cccddd']\n"
     ]
    }
   ],
   "source": [
    "match= re.split(r'--|==|__', 'aaa--bbb==cccddd')\n",
    "print(result)"
   ]
  },
  {
   "cell_type": "markdown",
   "metadata": {},
   "source": [
    "2) Получить первое слово из произвольной строки. Например, для 'Yesterday, All my troubles seemed so far away' должно возвращаться 'Yesterday'."
   ]
  },
  {
   "cell_type": "code",
   "execution_count": 52,
   "metadata": {},
   "outputs": [
    {
     "data": {
      "text/plain": [
       "'Yesterday'"
      ]
     },
     "execution_count": 52,
     "metadata": {},
     "output_type": "execute_result"
    }
   ],
   "source": [
    "a= 'Yesterday, All my troubles seemed so far away'\n",
    "pattern= re.compile(r'^[a-zA-Z]+\\b')\n",
    "pattern.match(a).group()"
   ]
  },
  {
   "cell_type": "markdown",
   "metadata": {},
   "source": [
    "3) Получить последнее слово из произвольной строки."
   ]
  },
  {
   "cell_type": "code",
   "execution_count": 108,
   "metadata": {},
   "outputs": [
    {
     "data": {
      "text/plain": [
       "'away'"
      ]
     },
     "execution_count": 108,
     "metadata": {},
     "output_type": "execute_result"
    }
   ],
   "source": [
    "pattern= re.compile(r'[a-zA-Z]+$')\n",
    "pattern.search(a).group()"
   ]
  },
  {
   "cell_type": "markdown",
   "metadata": {},
   "source": [
    "4) В следующем отрывке найти все слова, которые начинаются на гласную букву:"
   ]
  },
  {
   "cell_type": "code",
   "execution_count": 224,
   "metadata": {},
   "outputs": [
    {
     "name": "stdout",
     "output_type": "stream",
     "text": [
      "['admire', 'and', 'a', 'attendance', 'and', 'and', 'a', 'away', 'uncle', 'example', 'one', 'ideals']\n"
     ]
    }
   ],
   "source": [
    "s= '''My uncle -- high ideals inspire him;\n",
    "but when past joking he fell sick,\n",
    "he really forced one to admire him --\n",
    "and never played a shrewder trick.\n",
    "Let others learn from his example!\n",
    "But God, how deadly dull to sample\n",
    "sickroom attendance night and day\n",
    "and never stir a foot away!'''\n",
    "pattern1= re.findall(r\"\\ba\\w*\\b\", s)\n",
    "pattern2= re.findall(r\"\\bu\\w*\\b\", s)\n",
    "for www in pattern2:\n",
    "    pattern1.append(www)\n",
    "    pattern2.remove(www)\n",
    "pattern3= re.findall(r\"\\be\\w*\\b\", s)\n",
    "for www in pattern3:\n",
    "    pattern1.append(www)\n",
    "    pattern3.remove(www)\n",
    "pattern4= re.findall(r\"\\bo\\w*\\b\", s)\n",
    "for www in pattern4:\n",
    "    pattern1.append(www)\n",
    "    pattern4.remove(www)\n",
    "pattern5= re.findall(r\"\\bi\\w*\\b\", s)\n",
    "for www in pattern5:\n",
    "    pattern1.append(www)\n",
    "    pattern5.remove(www)\n",
    "print(pattern1)"
   ]
  },
  {
   "cell_type": "code",
   "execution_count": 192,
   "metadata": {},
   "outputs": [],
   "source": [
    "s= '''My uncle -- high ideals inspire him;\n",
    "but when past joking he fell sick,\n",
    "he really forced one to admire him --\n",
    "and never played a shrewder trick.\n",
    "Let others learn from his example!\n",
    "But God, how deadly dull to sample\n",
    "sickroom attendance night and day\n",
    "and never stir a foot away!'''"
   ]
  },
  {
   "cell_type": "markdown",
   "metadata": {},
   "source": [
    "5) В этом же отрывке найти первое слово каждой строки"
   ]
  },
  {
   "cell_type": "code",
   "execution_count": 135,
   "metadata": {},
   "outputs": [
    {
     "name": "stdout",
     "output_type": "stream",
     "text": [
      "['My ', 'but ', 'he ', 'and ', 'Let ', 'But ', 'sickroom ', 'and ']\n"
     ]
    }
   ],
   "source": [
    "s= '''My uncle -- high ideals inspire him;\n",
    "but when past joking he fell sick,\n",
    "he really forced one to admire him --\n",
    "and never played a shrewder trick.\n",
    "Let others learn from his example!\n",
    "But God, how deadly dull to sample\n",
    "sickroom attendance night and day\n",
    "and never stir a foot away!'''\n",
    "pattern= re.compile(r'^\\w+\\s', re.MULTILINE)\n",
    "print(pattern.findall(s))"
   ]
  },
  {
   "cell_type": "markdown",
   "metadata": {},
   "source": [
    "6) Проверить корректность введенного E-mail"
   ]
  },
  {
   "cell_type": "code",
   "execution_count": null,
   "metadata": {},
   "outputs": [],
   "source": [
    "def adress_checker():\n",
    "    pattern= re.compile('(^|\\s)[-a-z0-9_.]+@([-a-z0-9]+\\.)+[a-z]{2,6}(\\s|$)')\n",
    "    address= input('Введите ваш e-mail: ')\n",
    "    error= pattern.match(address)\n",
    "    if error:\n",
    "        print('Введен правильный e-mail! (', error.group() ,')')\n",
    "    else:\n",
    "        print('неверный email!')\n",
    "adress_checker()"
   ]
  },
  {
   "cell_type": "markdown",
   "metadata": {},
   "source": [
    "7) В следующей строке найти все email-адреса и вывести только доменные имена"
   ]
  },
  {
   "cell_type": "code",
   "execution_count": null,
   "metadata": {},
   "outputs": [],
   "source": [
    "def domenfinder():\n",
    "    sent= input('Введите ваш e-mail: ')\n",
    "    pattern= re.compile(r'[ ]+')\n",
    "    spliter= re.split(pattern, sent)\n",
    "    output = re.compile(r'[\\w+]+@([\\w+]+.)+[\\w+]{2,6}')\n",
    "    for www in range(len(spliter)):\n",
    "        out= output.match(spliter[www])\n",
    "        if out:\n",
    "            first= re.findall(r'\\w+.\\w+', sent[www])\n",
    "            second= str(first[0:])\n",
    "            print(second)\n",
    "domenfinder()"
   ]
  },
  {
   "cell_type": "markdown",
   "metadata": {},
   "source": [
    "8) Проверить корректность введенного номера мобильного телефона. Корректными считаются: <br>\n",
    "+7(999)999-99-99  <br>\n",
    "+7 (999) 999-99-99  <br>\n",
    "+7 999 999-99-99 <br>\n",
    "+7 999 999 99 99 <br>\n",
    "+79999999999"
   ]
  },
  {
   "cell_type": "code",
   "execution_count": null,
   "metadata": {},
   "outputs": [],
   "source": [
    "def numchecker():\n",
    "    pattern= re.compile(r'^+?\\w{1}[ ]?(?\\d{3})?[ ]?\\d{3}[- ]?\\d{2}[- ]?\\d{2}$')\n",
    "    address= input('Введите ваш телефон, чтобы мы могли спокойно заскамить вас: ')\n",
    "    output= pattern.match(address)\n",
    "    if output:\n",
    "        print('Номер введен корректно, спасибо (', output.group(), ')')\n",
    "    else:\n",
    "        print('Что-то пошло не по плану...')\n",
    "numchecker()"
   ]
  }
 ],
 "metadata": {
  "kernelspec": {
   "display_name": "Python 3",
   "language": "python",
   "name": "python3"
  },
  "language_info": {
   "codemirror_mode": {
    "name": "ipython",
    "version": 3
   },
   "file_extension": ".py",
   "mimetype": "text/x-python",
   "name": "python",
   "nbconvert_exporter": "python",
   "pygments_lexer": "ipython3",
   "version": "3.8.3"
  }
 },
 "nbformat": 4,
 "nbformat_minor": 2
}
